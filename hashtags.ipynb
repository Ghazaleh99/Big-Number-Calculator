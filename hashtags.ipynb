{
  "nbformat": 4,
  "nbformat_minor": 0,
  "metadata": {
    "colab": {
      "name": "Untitled1.ipynb",
      "provenance": [],
      "mount_file_id": "1o6Gkk-R1F5yD6ww4RuuZbCMGWiW05oDq",
      "authorship_tag": "ABX9TyNMpAaqXISajB27jr6hGtre"
    },
    "kernelspec": {
      "display_name": "Python 3",
      "name": "python3"
    },
    "language_info": {
      "name": "python"
    }
  },
  "cells": [
    {
      "cell_type": "code",
      "metadata": {
        "id": "CiH-WFzdt1PA"
      },
      "source": [
        "# -*- coding: utf-8 -*-\n",
        "import pickle\n"
      ],
      "execution_count": 143,
      "outputs": []
    },
    {
      "cell_type": "code",
      "metadata": {
        "colab": {
          "base_uri": "https://localhost:8080/"
        },
        "id": "CFDlJlcRulWc",
        "outputId": "f303411f-e77e-44e9-d591-22a6b2a51b54"
      },
      "source": [
        "from google.colab import drive\n",
        "drive.mount('/content/drive')"
      ],
      "execution_count": 144,
      "outputs": [
        {
          "output_type": "stream",
          "name": "stdout",
          "text": [
            "Drive already mounted at /content/drive; to attempt to forcibly remount, call drive.mount(\"/content/drive\", force_remount=True).\n"
          ]
        }
      ]
    },
    {
      "cell_type": "code",
      "metadata": {
        "colab": {
          "base_uri": "https://localhost:8080/"
        },
        "id": "vi6pPcQfu99r",
        "outputId": "4b6977da-5e5c-4fc9-9125-0a282f14937d"
      },
      "source": [
        "%cd drive\n",
        "%cd MyDrive/\n",
        "%ls"
      ],
      "execution_count": 145,
      "outputs": [
        {
          "output_type": "stream",
          "name": "stdout",
          "text": [
            "[Errno 2] No such file or directory: 'drive'\n",
            "/content/drive/MyDrive/Internship\n",
            "[Errno 2] No such file or directory: 'MyDrive/'\n",
            "/content/drive/MyDrive/Internship\n",
            "data_hashtags.pkl\n"
          ]
        }
      ]
    },
    {
      "cell_type": "code",
      "metadata": {
        "colab": {
          "base_uri": "https://localhost:8080/"
        },
        "id": "0UNMRT38x_0j",
        "outputId": "a67b205c-9436-4c3b-9557-d31385695462"
      },
      "source": [
        "%cd Internship/\n"
      ],
      "execution_count": 146,
      "outputs": [
        {
          "output_type": "stream",
          "name": "stdout",
          "text": [
            "[Errno 2] No such file or directory: 'Internship/'\n",
            "/content/drive/MyDrive/Internship\n"
          ]
        }
      ]
    },
    {
      "cell_type": "code",
      "metadata": {
        "colab": {
          "base_uri": "https://localhost:8080/"
        },
        "id": "PITHvhWcyec5",
        "outputId": "3697e6ae-0a57-4806-c278-38c1c1e43e0f"
      },
      "source": [
        "%ls"
      ],
      "execution_count": 147,
      "outputs": [
        {
          "output_type": "stream",
          "name": "stdout",
          "text": [
            "data_hashtags.pkl\n"
          ]
        }
      ]
    },
    {
      "cell_type": "code",
      "metadata": {
        "id": "CheDm0ON5FTW",
        "colab": {
          "base_uri": "https://localhost:8080/"
        },
        "outputId": "af103720-38b9-4e8f-efe2-5de9acdd997e"
      },
      "source": [
        "import pandas as pd\n",
        "unpickled_data = pd.read_pickle(\"./data_hashtags.pkl\")\n",
        "print(unpickled_data)\n",
        "df = unpickled_data"
      ],
      "execution_count": 148,
      "outputs": [
        {
          "output_type": "stream",
          "name": "stdout",
          "text": [
            "                        id           publish_id  ... copies      shdate\n",
            "0    tw1284225178097061889  1284225178097061889  ...   1205  1399-04-28\n",
            "1    tw1283041559198552065  1283041559198552065  ...    478  1399-04-24\n",
            "2    tw1285358007598166017  1285358007598166017  ...    135  1399-04-31\n",
            "3    tw1280925398780579842  1280925398780579842  ...    148  1399-04-18\n",
            "4    tw1281529407795089410  1281529407795089410  ...     29  1399-04-20\n",
            "..                     ...                  ...  ...    ...         ...\n",
            "995  tw1400415897194479620  1400415897194479620  ...      2  1400-03-13\n",
            "996  tw1402854107757559810  1402854107757559810  ...      1  1400-03-20\n",
            "997  tw1402320170060767232  1402320170060767232  ...      7  1400-03-18\n",
            "998  tw1400481904894353409  1400481904894353409  ...      0  1400-03-13\n",
            "999  tw1400551803243143173  1400551803243143173  ...      1  1400-03-14\n",
            "\n",
            "[963105 rows x 9 columns]\n"
          ]
        }
      ]
    },
    {
      "cell_type": "code",
      "metadata": {
        "id": "_Z4ndDEtYQvy",
        "colab": {
          "base_uri": "https://localhost:8080/"
        },
        "outputId": "bee6336e-460b-45c6-9d89-664e273cccbf"
      },
      "source": [
        "for col in unpickled_data.columns:\n",
        "    print(col)"
      ],
      "execution_count": 149,
      "outputs": [
        {
          "output_type": "stream",
          "name": "stdout",
          "text": [
            "id\n",
            "publish_id\n",
            "publisher\n",
            "text\n",
            "content_category\n",
            "likes\n",
            "comments\n",
            "copies\n",
            "shdate\n"
          ]
        }
      ]
    },
    {
      "cell_type": "code",
      "metadata": {
        "id": "cBGuox7hbXS7",
        "colab": {
          "base_uri": "https://localhost:8080/"
        },
        "outputId": "4225282e-33a6-4287-e189-9abd8845d3f6"
      },
      "source": [
        "print(unpickled_data.shdate)"
      ],
      "execution_count": 150,
      "outputs": [
        {
          "output_type": "stream",
          "name": "stdout",
          "text": [
            "0      1399-04-28\n",
            "1      1399-04-24\n",
            "2      1399-04-31\n",
            "3      1399-04-18\n",
            "4      1399-04-20\n",
            "          ...    \n",
            "995    1400-03-13\n",
            "996    1400-03-20\n",
            "997    1400-03-18\n",
            "998    1400-03-13\n",
            "999    1400-03-14\n",
            "Name: shdate, Length: 963105, dtype: object\n"
          ]
        }
      ]
    },
    {
      "cell_type": "code",
      "metadata": {
        "id": "Pdb-Uci4J2f0",
        "colab": {
          "base_uri": "https://localhost:8080/"
        },
        "outputId": "607576ca-1a44-4355-f30d-38ccdd976b7d"
      },
      "source": [
        "type(unpickled_data)"
      ],
      "execution_count": 151,
      "outputs": [
        {
          "output_type": "execute_result",
          "data": {
            "text/plain": [
              "pandas.core.frame.DataFrame"
            ]
          },
          "metadata": {},
          "execution_count": 151
        }
      ]
    },
    {
      "cell_type": "code",
      "metadata": {
        "id": "ogL5EtNtMYQO",
        "colab": {
          "base_uri": "https://localhost:8080/"
        },
        "outputId": "bb45b0bc-9f02-43c2-8343-c6b95aa5af85"
      },
      "source": [
        "print(unpickled_data.at[100,'text'])"
      ],
      "execution_count": 152,
      "outputs": [
        {
          "output_type": "stream",
          "name": "stdout",
          "text": [
            "100    خدایا کس‌‌ننه‌ت گذاشتم اگه ازین لحظه به‌بعد کس...\n",
            "100    وریا دهباشی کیری هم آنفالو کرد \\nعاشقتم کاپیتا...\n",
            "100    کون کنین \\n#نه_به_اعدام\\n#اعدام_نکنیدhttps://t...\n",
            "100    اون روزی که واسه اون فلوید کسکش خودتونو اینجا ...\n",
            "100    کیر تو ۲۰:۳۰ و صداوسیما\\n#اعدام_نکنید\\n#StopEx...\n",
            "                             ...                        \n",
            "100    یک تیر و سه نشان؛ انتقام، صدر و صعود\\n#تیم‌ملی...\n",
            "100    🎥  خاطره علی دایی از ضد فوتبال بازی کردن بحرین...\n",
            "100    📊 در لیگ عربستان، هیچ تیمی به اندازه #التعاون ...\n",
            "100                   طارمی اصن از پرسپولیس رفت شکوفا شد\n",
            "100    نقشه اینه، یووه تا دیقه 80 بازی رو 4 - 0 کنه و...\n",
            "Name: text, Length: 972, dtype: object\n"
          ]
        }
      ]
    },
    {
      "cell_type": "code",
      "metadata": {
        "id": "Pq-C6W-nPNWx",
        "colab": {
          "base_uri": "https://localhost:8080/"
        },
        "outputId": "e7c5ce77-ce0d-4a32-c6a4-2af819511462"
      },
      "source": [
        "def isEnglish(s):\n",
        "  return s.isascii()\n",
        "\n",
        "print(isEnglish(\"Test\"))\n",
        "print(isEnglish(\"_1991_اف_جي2\"))\n"
      ],
      "execution_count": 153,
      "outputs": [
        {
          "output_type": "stream",
          "name": "stdout",
          "text": [
            "True\n",
            "False\n"
          ]
        }
      ]
    },
    {
      "cell_type": "code",
      "metadata": {
        "id": "2HLipkzqiewN",
        "colab": {
          "base_uri": "https://localhost:8080/"
        },
        "outputId": "a825a0b7-0bd0-4ccb-ef2f-bb2f4c526d4e"
      },
      "source": [
        "print(unpickled_data.iloc[100000,3])"
      ],
      "execution_count": 154,
      "outputs": [
        {
          "output_type": "stream",
          "name": "stdout",
          "text": [
            "برونگرا\n",
            "\n",
            "#ExaEXOL #ExaBFF @weareoneEXO\n"
          ]
        }
      ]
    },
    {
      "cell_type": "code",
      "metadata": {
        "id": "AsW7xRHURzwy",
        "colab": {
          "base_uri": "https://localhost:8080/"
        },
        "outputId": "63023163-bb00-47c7-9da4-ad262d53e99d"
      },
      "source": [
        "l1 = unpickled_data.iloc[46,3].split()\n",
        "print(l1)\n",
        "print(unpickled_data.iloc[46,3])\n",
        "print(unpickled_data.iloc[46,3].split('#'))"
      ],
      "execution_count": 173,
      "outputs": [
        {
          "output_type": "stream",
          "name": "stdout",
          "text": [
            "['#رشتو', '۱', '#سکس', 'مطالعه', 'کنید', 'پذیرای', 'نظراتون', 'فکر', 'شدتون', 'هستم', 'فردا', 'یکی\\u200cدیگ\\u200cمیزارم', '#ملیساندرهpic.twitter.com/nP2tWBIf9H']\n",
            "#رشتو ۱\n",
            "#سکس\n",
            "مطالعه کنید پذیرای نظراتون فکر شدتون هستم\n",
            "فردا یکی‌دیگ‌میزارم\n",
            "#ملیساندرهpic.twitter.com/nP2tWBIf9H\n",
            "['', 'رشتو ۱\\n', 'سکس\\nمطالعه کنید پذیرای نظراتون فکر شدتون هستم\\nفردا یکی\\u200cدیگ\\u200cمیزارم\\n', 'ملیساندرهpic.twitter.com/nP2tWBIf9H']\n"
          ]
        }
      ]
    },
    {
      "cell_type": "code",
      "metadata": {
        "id": "h32GLr7lVx6a",
        "colab": {
          "base_uri": "https://localhost:8080/"
        },
        "outputId": "2ed8fb74-ab7b-40c6-a49c-b53bcda65e33"
      },
      "source": [
        "hashtags = []\n",
        "for i in l1:\n",
        "    if '#' in i:\n",
        "      hashtags.append(i)\n",
        "      print(i)\n",
        "print(hashtags)"
      ],
      "execution_count": 156,
      "outputs": [
        {
          "output_type": "stream",
          "name": "stdout",
          "text": [
            "#LiveLikeAli\n",
            "#فقط_به_عشق_علی\n",
            "['#LiveLikeAli', '#فقط_به_عشق_علی']\n"
          ]
        }
      ]
    },
    {
      "cell_type": "code",
      "metadata": {
        "id": "I32YK4jizdTj"
      },
      "source": [
        "#This is the code for url removal from the text\n",
        "import re\n",
        "\n",
        "def remove_URL(text):\n",
        "    \"\"\"Remove URLs from a text string\"\"\"\n",
        "    return re.sub(r\"http\\S+\", \"\", text)"
      ],
      "execution_count": 174,
      "outputs": []
    },
    {
      "cell_type": "code",
      "metadata": {
        "id": "kRZ4wFXHf9x4",
        "colab": {
          "base_uri": "https://localhost:8080/",
          "height": 370
        },
        "outputId": "1809d6a5-428f-4884-e4db-505192c3c5d7"
      },
      "source": [
        "#This is the code for elicit the hashtags\n",
        "hashtag_bigList=[]\n",
        "hash_dict = {'hashtags': []}\n",
        "for row in df.text:\n",
        "  row = remove_URL(row)\n",
        "  textWhiteSpace = row.split()\n",
        "  minihashtags = []\n",
        "  for i in textWhiteSpace:\n",
        "    if '#' in i:\n",
        "      minihashtags.append(i)\n",
        "  hashtag_bigList.append(minihashtags)\n",
        "hash_dict['hashtags'] += hashtag_bigList\n",
        "hash_dict"
      ],
      "execution_count": 175,
      "outputs": [
        {
          "output_type": "error",
          "ename": "TypeError",
          "evalue": "ignored",
          "traceback": [
            "\u001b[0;31m---------------------------------------------------------------------------\u001b[0m",
            "\u001b[0;31mTypeError\u001b[0m                                 Traceback (most recent call last)",
            "\u001b[0;32m<ipython-input-175-79b9615d759b>\u001b[0m in \u001b[0;36m<module>\u001b[0;34m()\u001b[0m\n\u001b[1;32m      3\u001b[0m \u001b[0mhash_dict\u001b[0m \u001b[0;34m=\u001b[0m \u001b[0;34m{\u001b[0m\u001b[0;34m'hashtags'\u001b[0m\u001b[0;34m:\u001b[0m \u001b[0;34m[\u001b[0m\u001b[0;34m]\u001b[0m\u001b[0;34m}\u001b[0m\u001b[0;34m\u001b[0m\u001b[0;34m\u001b[0m\u001b[0m\n\u001b[1;32m      4\u001b[0m \u001b[0;32mfor\u001b[0m \u001b[0mrow\u001b[0m \u001b[0;32min\u001b[0m \u001b[0mdf\u001b[0m\u001b[0;34m.\u001b[0m\u001b[0mtext\u001b[0m\u001b[0;34m:\u001b[0m\u001b[0;34m\u001b[0m\u001b[0;34m\u001b[0m\u001b[0m\n\u001b[0;32m----> 5\u001b[0;31m   \u001b[0mrow\u001b[0m \u001b[0;34m=\u001b[0m \u001b[0mremove_URL\u001b[0m\u001b[0;34m(\u001b[0m\u001b[0mrow\u001b[0m\u001b[0;34m)\u001b[0m\u001b[0;34m\u001b[0m\u001b[0;34m\u001b[0m\u001b[0m\n\u001b[0m\u001b[1;32m      6\u001b[0m   \u001b[0mtextWhiteSpace\u001b[0m \u001b[0;34m=\u001b[0m \u001b[0mrow\u001b[0m\u001b[0;34m.\u001b[0m\u001b[0msplit\u001b[0m\u001b[0;34m(\u001b[0m\u001b[0;34m)\u001b[0m\u001b[0;34m\u001b[0m\u001b[0;34m\u001b[0m\u001b[0m\n\u001b[1;32m      7\u001b[0m   \u001b[0mminihashtags\u001b[0m \u001b[0;34m=\u001b[0m \u001b[0;34m[\u001b[0m\u001b[0;34m]\u001b[0m\u001b[0;34m\u001b[0m\u001b[0;34m\u001b[0m\u001b[0m\n",
            "\u001b[0;32m<ipython-input-174-442d9c830574>\u001b[0m in \u001b[0;36mremove_URL\u001b[0;34m(text)\u001b[0m\n\u001b[1;32m      4\u001b[0m \u001b[0;32mdef\u001b[0m \u001b[0mremove_URL\u001b[0m\u001b[0;34m(\u001b[0m\u001b[0mtext\u001b[0m\u001b[0;34m)\u001b[0m\u001b[0;34m:\u001b[0m\u001b[0;34m\u001b[0m\u001b[0;34m\u001b[0m\u001b[0m\n\u001b[1;32m      5\u001b[0m     \u001b[0;34m\"\"\"Remove URLs from a text string\"\"\"\u001b[0m\u001b[0;34m\u001b[0m\u001b[0;34m\u001b[0m\u001b[0m\n\u001b[0;32m----> 6\u001b[0;31m     \u001b[0;32mreturn\u001b[0m \u001b[0mre\u001b[0m\u001b[0;34m.\u001b[0m\u001b[0msub\u001b[0m\u001b[0;34m(\u001b[0m\u001b[0;34mr\"http\\S+\"\u001b[0m\u001b[0;34m,\u001b[0m \u001b[0;34m\"\"\u001b[0m\u001b[0;34m,\u001b[0m \u001b[0mtext\u001b[0m\u001b[0;34m)\u001b[0m\u001b[0;34m\u001b[0m\u001b[0;34m\u001b[0m\u001b[0m\n\u001b[0m",
            "\u001b[0;32m/usr/lib/python3.7/re.py\u001b[0m in \u001b[0;36msub\u001b[0;34m(pattern, repl, string, count, flags)\u001b[0m\n\u001b[1;32m    192\u001b[0m     \u001b[0ma\u001b[0m \u001b[0mcallable\u001b[0m\u001b[0;34m,\u001b[0m \u001b[0mit\u001b[0m\u001b[0;31m'\u001b[0m\u001b[0ms\u001b[0m \u001b[0mpassed\u001b[0m \u001b[0mthe\u001b[0m \u001b[0mMatch\u001b[0m \u001b[0mobject\u001b[0m \u001b[0;32mand\u001b[0m \u001b[0mmust\u001b[0m \u001b[0;32mreturn\u001b[0m\u001b[0;34m\u001b[0m\u001b[0;34m\u001b[0m\u001b[0m\n\u001b[1;32m    193\u001b[0m     a replacement string to be used.\"\"\"\n\u001b[0;32m--> 194\u001b[0;31m     \u001b[0;32mreturn\u001b[0m \u001b[0m_compile\u001b[0m\u001b[0;34m(\u001b[0m\u001b[0mpattern\u001b[0m\u001b[0;34m,\u001b[0m \u001b[0mflags\u001b[0m\u001b[0;34m)\u001b[0m\u001b[0;34m.\u001b[0m\u001b[0msub\u001b[0m\u001b[0;34m(\u001b[0m\u001b[0mrepl\u001b[0m\u001b[0;34m,\u001b[0m \u001b[0mstring\u001b[0m\u001b[0;34m,\u001b[0m \u001b[0mcount\u001b[0m\u001b[0;34m)\u001b[0m\u001b[0;34m\u001b[0m\u001b[0;34m\u001b[0m\u001b[0m\n\u001b[0m\u001b[1;32m    195\u001b[0m \u001b[0;34m\u001b[0m\u001b[0m\n\u001b[1;32m    196\u001b[0m \u001b[0;32mdef\u001b[0m \u001b[0msubn\u001b[0m\u001b[0;34m(\u001b[0m\u001b[0mpattern\u001b[0m\u001b[0;34m,\u001b[0m \u001b[0mrepl\u001b[0m\u001b[0;34m,\u001b[0m \u001b[0mstring\u001b[0m\u001b[0;34m,\u001b[0m \u001b[0mcount\u001b[0m\u001b[0;34m=\u001b[0m\u001b[0;36m0\u001b[0m\u001b[0;34m,\u001b[0m \u001b[0mflags\u001b[0m\u001b[0;34m=\u001b[0m\u001b[0;36m0\u001b[0m\u001b[0;34m)\u001b[0m\u001b[0;34m:\u001b[0m\u001b[0;34m\u001b[0m\u001b[0;34m\u001b[0m\u001b[0m\n",
            "\u001b[0;31mTypeError\u001b[0m: expected string or bytes-like object"
          ]
        }
      ]
    }
  ]
}